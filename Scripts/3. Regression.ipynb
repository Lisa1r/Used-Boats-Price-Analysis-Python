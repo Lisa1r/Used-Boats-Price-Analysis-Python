{
 "cells": [
  {
   "cell_type": "markdown",
   "id": "734ac5f3",
   "metadata": {},
   "source": [
    "# Table of contents\n",
    "\n",
    "1. Import libraries\n",
    "2. Import data set(s)\n",
    "3. Clean data\n",
    "4. Data prep for regression\n",
    "5. Regression analysis"
   ]
  },
  {
   "cell_type": "markdown",
   "id": "cd32fdf6",
   "metadata": {},
   "source": [
    "# 1. Import libraries"
   ]
  },
  {
   "cell_type": "code",
   "execution_count": 116,
   "id": "c77902c6",
   "metadata": {},
   "outputs": [],
   "source": [
    "import pandas as pd\n",
    "import numpy as np\n",
    "import seaborn as sns\n",
    "import matplotlib\n",
    "import matplotlib.pyplot as plt\n",
    "import os\n",
    "import sklearn\n",
    "from sklearn.model_selection import train_test_split \n",
    "from sklearn.linear_model import LinearRegression\n",
    "from sklearn.metrics import mean_squared_error, r2_score"
   ]
  },
  {
   "cell_type": "markdown",
   "id": "f19ffbad",
   "metadata": {},
   "source": [
    "# 2. Import data set(s)"
   ]
  },
  {
   "cell_type": "code",
   "execution_count": 117,
   "id": "261a6819",
   "metadata": {},
   "outputs": [],
   "source": [
    "# Define path\n",
    "path = r'/Users/elisabetta/Documents/01-2023 Used Boats'"
   ]
  },
  {
   "cell_type": "code",
   "execution_count": 118,
   "id": "d54b6b9b",
   "metadata": {},
   "outputs": [],
   "source": [
    "# Import cvs file\n",
    "df_boats = pd.read_csv(os.path.join(path, '02 Data', 'Prepared Data', 'boat_data_cleaned.csv'), index_col = False)"
   ]
  },
  {
   "cell_type": "markdown",
   "id": "c45e86c4",
   "metadata": {},
   "source": [
    "# 3. Clean data"
   ]
  },
  {
   "cell_type": "code",
   "execution_count": 119,
   "id": "3e62ef59",
   "metadata": {},
   "outputs": [
    {
     "data": {
      "text/html": [
       "<div>\n",
       "<style scoped>\n",
       "    .dataframe tbody tr th:only-of-type {\n",
       "        vertical-align: middle;\n",
       "    }\n",
       "\n",
       "    .dataframe tbody tr th {\n",
       "        vertical-align: top;\n",
       "    }\n",
       "\n",
       "    .dataframe thead th {\n",
       "        text-align: right;\n",
       "    }\n",
       "</style>\n",
       "<table border=\"1\" class=\"dataframe\">\n",
       "  <thead>\n",
       "    <tr style=\"text-align: right;\">\n",
       "      <th></th>\n",
       "      <th>boat_id</th>\n",
       "      <th>price</th>\n",
       "      <th>boat_type</th>\n",
       "      <th>manufacturer</th>\n",
       "      <th>type</th>\n",
       "      <th>year_built</th>\n",
       "      <th>length</th>\n",
       "      <th>length_cm</th>\n",
       "      <th>length_mm</th>\n",
       "      <th>width</th>\n",
       "      <th>width_cm</th>\n",
       "      <th>width_mm</th>\n",
       "      <th>material</th>\n",
       "      <th>location</th>\n",
       "      <th>num_views_last_7_days</th>\n",
       "    </tr>\n",
       "  </thead>\n",
       "  <tbody>\n",
       "    <tr>\n",
       "      <th>0</th>\n",
       "      <td>7402</td>\n",
       "      <td>53754</td>\n",
       "      <td>Bowrider</td>\n",
       "      <td>Regal power boats</td>\n",
       "      <td>new boat from stock,Unleaded</td>\n",
       "      <td>2021</td>\n",
       "      <td>6.00</td>\n",
       "      <td>600</td>\n",
       "      <td>6000</td>\n",
       "      <td>2.50</td>\n",
       "      <td>250</td>\n",
       "      <td>2500</td>\n",
       "      <td>GRP</td>\n",
       "      <td>Germany Â» Lake Constance Â» Lindau/Bodensee</td>\n",
       "      <td>131</td>\n",
       "    </tr>\n",
       "    <tr>\n",
       "      <th>1</th>\n",
       "      <td>7105</td>\n",
       "      <td>60753</td>\n",
       "      <td>Bowrider</td>\n",
       "      <td>Regal power boats</td>\n",
       "      <td>new boat from stock,Unleaded</td>\n",
       "      <td>2021</td>\n",
       "      <td>6.10</td>\n",
       "      <td>610</td>\n",
       "      <td>6100</td>\n",
       "      <td>2.50</td>\n",
       "      <td>250</td>\n",
       "      <td>2500</td>\n",
       "      <td>GRP</td>\n",
       "      <td>Germany Â» Lake Constance Â» Lindau/Bodensee</td>\n",
       "      <td>69</td>\n",
       "    </tr>\n",
       "    <tr>\n",
       "      <th>2</th>\n",
       "      <td>7280</td>\n",
       "      <td>61079</td>\n",
       "      <td>Sport Boat</td>\n",
       "      <td>Regal power boats</td>\n",
       "      <td>new boat from stock,Unleaded</td>\n",
       "      <td>2021</td>\n",
       "      <td>6.00</td>\n",
       "      <td>600</td>\n",
       "      <td>6000</td>\n",
       "      <td>2.50</td>\n",
       "      <td>250</td>\n",
       "      <td>2500</td>\n",
       "      <td>GRP</td>\n",
       "      <td>Switzerland Â» Lake of Zurich Â» Altendorf</td>\n",
       "      <td>285</td>\n",
       "    </tr>\n",
       "    <tr>\n",
       "      <th>3</th>\n",
       "      <td>1147</td>\n",
       "      <td>61713</td>\n",
       "      <td>Bowrider</td>\n",
       "      <td>Regal power boats</td>\n",
       "      <td>new boat from stock,Unleaded</td>\n",
       "      <td>2021</td>\n",
       "      <td>6.10</td>\n",
       "      <td>610</td>\n",
       "      <td>6100</td>\n",
       "      <td>2.50</td>\n",
       "      <td>250</td>\n",
       "      <td>2500</td>\n",
       "      <td>GRP</td>\n",
       "      <td>Germany Â» Lake Constance Â» Lindau/Bodensee</td>\n",
       "      <td>110</td>\n",
       "    </tr>\n",
       "    <tr>\n",
       "      <th>4</th>\n",
       "      <td>5798</td>\n",
       "      <td>123468</td>\n",
       "      <td>Sport Boat</td>\n",
       "      <td>Sessa power boats</td>\n",
       "      <td>new boat from stock,Unleaded</td>\n",
       "      <td>2021</td>\n",
       "      <td>8.42</td>\n",
       "      <td>842</td>\n",
       "      <td>8420</td>\n",
       "      <td>2.64</td>\n",
       "      <td>264</td>\n",
       "      <td>2640</td>\n",
       "      <td>GRP</td>\n",
       "      <td>Switzerland Â» VierwaldstÃ¤ttersee Â» Alpnachstad</td>\n",
       "      <td>185</td>\n",
       "    </tr>\n",
       "  </tbody>\n",
       "</table>\n",
       "</div>"
      ],
      "text/plain": [
       "   boat_id   price   boat_type       manufacturer  \\\n",
       "0     7402   53754    Bowrider  Regal power boats   \n",
       "1     7105   60753    Bowrider  Regal power boats   \n",
       "2     7280   61079  Sport Boat  Regal power boats   \n",
       "3     1147   61713    Bowrider  Regal power boats   \n",
       "4     5798  123468  Sport Boat  Sessa power boats   \n",
       "\n",
       "                           type  year_built  length  length_cm  length_mm  \\\n",
       "0  new boat from stock,Unleaded        2021    6.00        600       6000   \n",
       "1  new boat from stock,Unleaded        2021    6.10        610       6100   \n",
       "2  new boat from stock,Unleaded        2021    6.00        600       6000   \n",
       "3  new boat from stock,Unleaded        2021    6.10        610       6100   \n",
       "4  new boat from stock,Unleaded        2021    8.42        842       8420   \n",
       "\n",
       "   width  width_cm  width_mm material  \\\n",
       "0   2.50       250      2500      GRP   \n",
       "1   2.50       250      2500      GRP   \n",
       "2   2.50       250      2500      GRP   \n",
       "3   2.50       250      2500      GRP   \n",
       "4   2.64       264      2640      GRP   \n",
       "\n",
       "                                            location  num_views_last_7_days  \n",
       "0       Germany Â» Lake Constance Â» Lindau/Bodensee                    131  \n",
       "1       Germany Â» Lake Constance Â» Lindau/Bodensee                     69  \n",
       "2        Switzerland Â» Lake of Zurich Â» Altendorf                     285  \n",
       "3       Germany Â» Lake Constance Â» Lindau/Bodensee                    110  \n",
       "4  Switzerland Â» VierwaldstÃ¤ttersee Â» Alpnachstad                    185  "
      ]
     },
     "execution_count": 119,
     "metadata": {},
     "output_type": "execute_result"
    }
   ],
   "source": [
    "df_boats.head()"
   ]
  },
  {
   "cell_type": "code",
   "execution_count": 120,
   "id": "490b3a72",
   "metadata": {},
   "outputs": [
    {
     "data": {
      "text/plain": [
       "(5, 15)"
      ]
     },
     "execution_count": 120,
     "metadata": {},
     "output_type": "execute_result"
    }
   ],
   "source": [
    "df_boats.head().shape"
   ]
  },
  {
   "cell_type": "code",
   "execution_count": 121,
   "id": "367bef93",
   "metadata": {},
   "outputs": [
    {
     "data": {
      "text/plain": [
       "boat_id                    0\n",
       "price                      0\n",
       "boat_type                  0\n",
       "manufacturer             309\n",
       "type                       0\n",
       "year_built                 0\n",
       "length                     0\n",
       "length_cm                  0\n",
       "length_mm                  0\n",
       "width                      0\n",
       "width_cm                   0\n",
       "width_mm                   0\n",
       "material                 315\n",
       "location                   0\n",
       "num_views_last_7_days      0\n",
       "dtype: int64"
      ]
     },
     "execution_count": 121,
     "metadata": {},
     "output_type": "execute_result"
    }
   ],
   "source": [
    "# Check for missing values\n",
    "df_boats.isnull().sum()"
   ]
  },
  {
   "cell_type": "code",
   "execution_count": 122,
   "id": "4be0e482",
   "metadata": {},
   "outputs": [],
   "source": [
    "# Impute missing values length using median\n",
    "df_boats['length'].fillna(df_boats['length'].median(), inplace=True)"
   ]
  },
  {
   "cell_type": "code",
   "execution_count": 123,
   "id": "ce9f17b3",
   "metadata": {},
   "outputs": [],
   "source": [
    "# Impute missing values width using median\n",
    "df_boats['width'].fillna(df_boats['width'].median(), inplace=True)"
   ]
  },
  {
   "cell_type": "code",
   "execution_count": 124,
   "id": "6846b3d0",
   "metadata": {},
   "outputs": [
    {
     "data": {
      "text/plain": [
       "boat_id                    0\n",
       "price                      0\n",
       "boat_type                  0\n",
       "manufacturer             309\n",
       "type                       0\n",
       "year_built                 0\n",
       "length                     0\n",
       "length_cm                  0\n",
       "length_mm                  0\n",
       "width                      0\n",
       "width_cm                   0\n",
       "width_mm                   0\n",
       "material                 315\n",
       "location                   0\n",
       "num_views_last_7_days      0\n",
       "dtype: int64"
      ]
     },
     "execution_count": 124,
     "metadata": {},
     "output_type": "execute_result"
    }
   ],
   "source": [
    "# Check output\n",
    "df_boats.isnull().sum()"
   ]
  },
  {
   "cell_type": "code",
   "execution_count": 125,
   "id": "8bea098e",
   "metadata": {},
   "outputs": [],
   "source": [
    "# Check for duplicates\n",
    "dups = df_boats.duplicated()"
   ]
  },
  {
   "cell_type": "code",
   "execution_count": 126,
   "id": "aeff24cd",
   "metadata": {},
   "outputs": [
    {
     "data": {
      "text/plain": [
       "(2118,)"
      ]
     },
     "execution_count": 126,
     "metadata": {},
     "output_type": "execute_result"
    }
   ],
   "source": [
    "dups.shape # No dups"
   ]
  },
  {
   "cell_type": "code",
   "execution_count": 127,
   "id": "581079a4",
   "metadata": {},
   "outputs": [
    {
     "name": "stderr",
     "output_type": "stream",
     "text": [
      "/Users/elisabetta/opt/anaconda3/lib/python3.9/site-packages/seaborn/distributions.py:2619: FutureWarning: `distplot` is a deprecated function and will be removed in a future version. Please adapt your code to use either `displot` (a figure-level function with similar flexibility) or `histplot` (an axes-level function for histograms).\n",
      "  warnings.warn(msg, FutureWarning)\n"
     ]
    },
    {
     "data": {
      "text/plain": [
       "<AxesSubplot:xlabel='price', ylabel='Density'>"
      ]
     },
     "execution_count": 127,
     "metadata": {},
     "output_type": "execute_result"
    },
    {
     "data": {
      "image/png": "[encoded data removed]",
      "text/plain": [
       "<Figure size 640x480 with 1 Axes>"
      ]
     },
     "metadata": {},
     "output_type": "display_data"
    }
   ],
   "source": [
    "# Check for extreme values\n",
    "sns.distplot(df_boats['price'], bins=25)\n",
    "# There are a few extreme values but try first before eliminanting them"
   ]
  },
  {
   "cell_type": "code",
   "execution_count": 128,
   "id": "6542a918",
   "metadata": {},
   "outputs": [
    {
     "data": {
      "text/plain": [
       "34162.634088762985"
      ]
     },
     "execution_count": 128,
     "metadata": {},
     "output_type": "execute_result"
    }
   ],
   "source": [
    "# Check stats for price\n",
    "\n",
    "df_boats['price'].mean() # Check the mean"
   ]
  },
  {
   "cell_type": "code",
   "execution_count": 129,
   "id": "cef05b4f",
   "metadata": {},
   "outputs": [
    {
     "data": {
      "text/plain": [
       "33500.0"
      ]
     },
     "execution_count": 129,
     "metadata": {},
     "output_type": "execute_result"
    }
   ],
   "source": [
    "df_boats['price'].median() # Check the median"
   ]
  },
  {
   "cell_type": "code",
   "execution_count": 130,
   "id": "603ab8cc",
   "metadata": {},
   "outputs": [
    {
     "data": {
      "text/plain": [
       "123468"
      ]
     },
     "execution_count": 130,
     "metadata": {},
     "output_type": "execute_result"
    }
   ],
   "source": [
    "df_boats['price'].max() # Check the max"
   ]
  },
  {
   "cell_type": "code",
   "execution_count": 131,
   "id": "47dd074d",
   "metadata": {},
   "outputs": [
    {
     "data": {
      "text/plain": [
       "4300"
      ]
     },
     "execution_count": 131,
     "metadata": {},
     "output_type": "execute_result"
    }
   ],
   "source": [
    "df_boats['price'].min() # Check the min"
   ]
  },
  {
   "cell_type": "code",
   "execution_count": 132,
   "id": "71aa8290",
   "metadata": {},
   "outputs": [],
   "source": [
    "# Hypothesis for analysis >>> Newer boats cost more than other boats. There might be exceptions though, i.e. vintage/historical boats"
   ]
  },
  {
   "cell_type": "markdown",
   "id": "0fcc8bba",
   "metadata": {},
   "source": [
    "# 4. Data prep for regression"
   ]
  },
  {
   "cell_type": "code",
   "execution_count": 133,
   "id": "1976cb48",
   "metadata": {},
   "outputs": [
    {
     "data": {
      "image/png": "[encoded data removed]",
      "text/plain": [
       "<Figure size 640x480 with 1 Axes>"
      ]
     },
     "metadata": {},
     "output_type": "display_data"
    }
   ],
   "source": [
    "# Create scatterplot using matplotlib\n",
    "df_boats.plot(x = 'year_built', y='price',style='o')\n",
    "plt.title('Construction Year & Price')  \n",
    "plt.xlabel('construction year')  \n",
    "plt.ylabel('price')  \n",
    "plt.show()"
   ]
  },
  {
   "cell_type": "code",
   "execution_count": 134,
   "id": "d6ff5805",
   "metadata": {},
   "outputs": [],
   "source": [
    "# Reshape variables into NumPy arrays and put them into separate objects\n",
    "X = df_boats['year_built'].values.reshape(-1,1)\n",
    "y = df_boats['price'].values.reshape(-1,1)"
   ]
  },
  {
   "cell_type": "code",
   "execution_count": 135,
   "id": "4a394bf6",
   "metadata": {},
   "outputs": [
    {
     "data": {
      "text/plain": [
       "array([[2021],\n",
       "       [2021],\n",
       "       [2021],\n",
       "       ...,\n",
       "       [1902],\n",
       "       [1900],\n",
       "       [1897]])"
      ]
     },
     "execution_count": 135,
     "metadata": {},
     "output_type": "execute_result"
    }
   ],
   "source": [
    "X"
   ]
  },
  {
   "cell_type": "code",
   "execution_count": 136,
   "id": "3f67b308",
   "metadata": {},
   "outputs": [
    {
     "data": {
      "text/plain": [
       "array([[53754],\n",
       "       [60753],\n",
       "       [61079],\n",
       "       ...,\n",
       "       [15000],\n",
       "       [15000],\n",
       "       [25000]])"
      ]
     },
     "execution_count": 136,
     "metadata": {},
     "output_type": "execute_result"
    }
   ],
   "source": [
    "y"
   ]
  },
  {
   "cell_type": "code",
   "execution_count": 137,
   "id": "edaf19f7",
   "metadata": {},
   "outputs": [],
   "source": [
    "# Split data into training set and test set\n",
    "X_train, X_test, y_train, y_test = train_test_split(X, y, test_size=0.3, random_state=0)"
   ]
  },
  {
   "cell_type": "markdown",
   "id": "57188bb9",
   "metadata": {},
   "source": [
    "# 5. Regression analysis"
   ]
  },
  {
   "cell_type": "code",
   "execution_count": 138,
   "id": "4ecc892f",
   "metadata": {},
   "outputs": [],
   "source": [
    "# Create regression object to be fit onto training set\n",
    "regression = LinearRegression()"
   ]
  },
  {
   "cell_type": "code",
   "execution_count": 139,
   "id": "54f3b539",
   "metadata": {},
   "outputs": [
    {
     "data": {
      "text/plain": [
       "LinearRegression()"
      ]
     },
     "execution_count": 139,
     "metadata": {},
     "output_type": "execute_result"
    }
   ],
   "source": [
    "# Fit regression object onto training set\n",
    "regression.fit(X_train, y_train)"
   ]
  },
  {
   "cell_type": "code",
   "execution_count": 140,
   "id": "3be4d1fd",
   "metadata": {},
   "outputs": [],
   "source": [
    "# Predict values of y using X\n",
    "y_predicted = regression.predict(X_test)"
   ]
  },
  {
   "cell_type": "code",
   "execution_count": 141,
   "id": "55a91bd6",
   "metadata": {
    "scrolled": true
   },
   "outputs": [
    {
     "data": {
      "image/png": "[encoded data removed]",
      "text/plain": [
       "<Figure size 640x480 with 1 Axes>"
      ]
     },
     "metadata": {},
     "output_type": "display_data"
    }
   ],
   "source": [
    "# Create plot that shows regression line from model on test set\n",
    "plot_test = plt\n",
    "plot_test.scatter(X_test, y_test, color='gray', s = 15)\n",
    "plot_test.plot(X_test, y_predicted, color='red', linewidth =3)\n",
    "plot_test.title('Construction Year Vs. Price (Test Set)')\n",
    "plot_test.xlabel('construction year')\n",
    "plot_test.ylabel('price')\n",
    "plot_test.savefig('plot_test.png')\n",
    "plot_test.show()"
   ]
  },
  {
   "cell_type": "code",
   "execution_count": 142,
   "id": "0c78c529",
   "metadata": {},
   "outputs": [],
   "source": [
    "# Check model accuracy \n",
    "# Create objects containing model summary statistics\n",
    "rmse = mean_squared_error(y_test, y_predicted) # Mean squared error\n",
    "r2 = r2_score(y_test, y_predicted) # R2 score"
   ]
  },
  {
   "cell_type": "code",
   "execution_count": 143,
   "id": "31e45da3",
   "metadata": {
    "scrolled": true
   },
   "outputs": [
    {
     "name": "stdout",
     "output_type": "stream",
     "text": [
      "Slope: [[210.56426832]]\n",
      "Mean squared error:  239050163.14994034\n",
      "R2 score:  0.09053683784457589\n"
     ]
    }
   ],
   "source": [
    "# Print model summary statistics to evaluate model performance\n",
    "print('Slope:' ,regression.coef_)\n",
    "print('Mean squared error: ', rmse)\n",
    "print('R2 score: ', r2)"
   ]
  },
  {
   "cell_type": "code",
   "execution_count": 144,
   "id": "e642c92d",
   "metadata": {},
   "outputs": [],
   "source": [
    "# A positive slope here indicates a positive relationship. As the construction year increases (i.e. the boat is newer), the price increases\n",
    "# The MSE is quite large and hence it regression probably isn't the best model accurately predict the influence of construction year on price\n",
    "# The R2 is close to 0, thus indicating a poor fit"
   ]
  },
  {
   "cell_type": "code",
   "execution_count": 145,
   "id": "d756598b",
   "metadata": {},
   "outputs": [
    {
     "data": {
      "text/plain": [
       "array([[34348.74225585],\n",
       "       [34348.74225585],\n",
       "       [30558.58542602],\n",
       "       [34980.43506082],\n",
       "       [29295.19981608],\n",
       "       [30979.71396267],\n",
       "       [37507.20628071],\n",
       "       [31821.97103597],\n",
       "       [29295.19981608],\n",
       "       [37296.64201239],\n",
       "       [31400.84249932],\n",
       "       [37507.20628071],\n",
       "       [31400.84249932],\n",
       "       [37296.64201239],\n",
       "       [37507.20628071],\n",
       "       [36664.94920742],\n",
       "       [28242.37847446],\n",
       "       [34980.43506082],\n",
       "       [30348.0211577 ],\n",
       "       [32874.79237759],\n",
       "       [37296.64201239],\n",
       "       [31611.40676764],\n",
       "       [31190.27823099],\n",
       "       [32453.66384094],\n",
       "       [30137.45688937],\n",
       "       [34138.17798753],\n",
       "       [37507.20628071],\n",
       "       [28242.37847446],\n",
       "       [33506.48518256],\n",
       "       [32243.09957261],\n",
       "       [24662.78591295],\n",
       "       [34980.43506082],\n",
       "       [37296.64201239],\n",
       "       [31611.40676764],\n",
       "       [32664.22810926],\n",
       "       [32243.09957261],\n",
       "       [28031.81420614],\n",
       "       [37507.20628071],\n",
       "       [34138.17798753],\n",
       "       [33295.92091423],\n",
       "       [26136.73579122],\n",
       "       [37296.64201239],\n",
       "       [36664.94920742],\n",
       "       [33717.04945088],\n",
       "       [34980.43506082],\n",
       "       [30979.71396267],\n",
       "       [33717.04945088],\n",
       "       [27400.12140116],\n",
       "       [34769.8707925 ],\n",
       "       [37507.20628071],\n",
       "       [32664.22810926],\n",
       "       [34348.74225585],\n",
       "       [37507.20628071],\n",
       "       [34348.74225585],\n",
       "       [37296.64201239],\n",
       "       [33717.04945088],\n",
       "       [30979.71396267],\n",
       "       [32243.09957261],\n",
       "       [32874.79237759],\n",
       "       [30558.58542602],\n",
       "       [33927.6137192 ],\n",
       "       [32032.53530429],\n",
       "       [31190.27823099],\n",
       "       [37507.20628071],\n",
       "       [33927.6137192 ],\n",
       "       [37296.64201239],\n",
       "       [31611.40676764],\n",
       "       [37296.64201239],\n",
       "       [30558.58542602],\n",
       "       [33717.04945088],\n",
       "       [37507.20628071],\n",
       "       [29926.89262105],\n",
       "       [35822.69213412],\n",
       "       [37507.20628071],\n",
       "       [37507.20628071],\n",
       "       [34769.8707925 ],\n",
       "       [37507.20628071],\n",
       "       [36875.51347574],\n",
       "       [37296.64201239],\n",
       "       [31821.97103597],\n",
       "       [37086.07774406],\n",
       "       [34138.17798753],\n",
       "       [27610.68566949],\n",
       "       [31821.97103597],\n",
       "       [32664.22810926],\n",
       "       [35190.99932915],\n",
       "       [37507.20628071],\n",
       "       [27821.24993781],\n",
       "       [35822.69213412],\n",
       "       [34769.8707925 ],\n",
       "       [37507.20628071],\n",
       "       [37507.20628071],\n",
       "       [37507.20628071],\n",
       "       [37507.20628071],\n",
       "       [37507.20628071],\n",
       "       [31821.97103597],\n",
       "       [35822.69213412],\n",
       "       [29926.89262105],\n",
       "       [37507.20628071],\n",
       "       [32243.09957261],\n",
       "       [34138.17798753],\n",
       "       [32874.79237759],\n",
       "       [33717.04945088],\n",
       "       [17714.16505827],\n",
       "       [31190.27823099],\n",
       "       [37507.20628071],\n",
       "       [31400.84249932],\n",
       "       [37507.20628071],\n",
       "       [22346.57896139],\n",
       "       [37507.20628071],\n",
       "       [27400.12140116],\n",
       "       [31821.97103597],\n",
       "       [31190.27823099],\n",
       "       [31400.84249932],\n",
       "       [34769.8707925 ],\n",
       "       [33927.6137192 ],\n",
       "       [34348.74225585],\n",
       "       [37507.20628071],\n",
       "       [27400.12140116],\n",
       "       [37507.20628071],\n",
       "       [33085.35664591],\n",
       "       [37086.07774406],\n",
       "       [29084.63554776],\n",
       "       [37507.20628071],\n",
       "       [34559.30652418],\n",
       "       [31400.84249932],\n",
       "       [32664.22810926],\n",
       "       [31400.84249932],\n",
       "       [37086.07774406],\n",
       "       [37086.07774406],\n",
       "       [37296.64201239],\n",
       "       [37086.07774406],\n",
       "       [37507.20628071],\n",
       "       [37507.20628071],\n",
       "       [35190.99932915],\n",
       "       [36875.51347574],\n",
       "       [37507.20628071],\n",
       "       [37296.64201239],\n",
       "       [37507.20628071],\n",
       "       [36875.51347574],\n",
       "       [28242.37847446],\n",
       "       [33085.35664591],\n",
       "       [36664.94920742],\n",
       "       [33506.48518256],\n",
       "       [37296.64201239],\n",
       "       [31190.27823099],\n",
       "       [37507.20628071],\n",
       "       [30769.14969435],\n",
       "       [37507.20628071],\n",
       "       [34348.74225585],\n",
       "       [19819.8077415 ],\n",
       "       [30979.71396267],\n",
       "       [30137.45688937],\n",
       "       [33295.92091423],\n",
       "       [32453.66384094],\n",
       "       [34138.17798753],\n",
       "       [37296.64201239],\n",
       "       [26978.99286452],\n",
       "       [24031.09310798],\n",
       "       [37296.64201239],\n",
       "       [36875.51347574],\n",
       "       [37507.20628071],\n",
       "       [37507.20628071],\n",
       "       [34138.17798753],\n",
       "       [27610.68566949],\n",
       "       [31611.40676764],\n",
       "       [37296.64201239],\n",
       "       [36875.51347574],\n",
       "       [37296.64201239],\n",
       "       [35401.56359747],\n",
       "       [32664.22810926],\n",
       "       [31190.27823099],\n",
       "       [37507.20628071],\n",
       "       [32453.66384094],\n",
       "       [29084.63554776],\n",
       "       [28242.37847446],\n",
       "       [33506.48518256],\n",
       "       [26347.30005955],\n",
       "       [37507.20628071],\n",
       "       [37296.64201239],\n",
       "       [37296.64201239],\n",
       "       [37296.64201239],\n",
       "       [29084.63554776],\n",
       "       [31400.84249932],\n",
       "       [14134.57249676],\n",
       "       [25926.1715229 ],\n",
       "       [37507.20628071],\n",
       "       [27400.12140116],\n",
       "       [36033.25640244],\n",
       "       [37507.20628071],\n",
       "       [35822.69213412],\n",
       "       [30979.71396267],\n",
       "       [34769.8707925 ],\n",
       "       [37507.20628071],\n",
       "       [36664.94920742],\n",
       "       [37296.64201239],\n",
       "       [34769.8707925 ],\n",
       "       [33506.48518256],\n",
       "       [26768.42859619],\n",
       "       [37507.20628071],\n",
       "       [32032.53530429],\n",
       "       [33927.6137192 ],\n",
       "       [31400.84249932],\n",
       "       [31611.40676764],\n",
       "       [37507.20628071],\n",
       "       [37507.20628071],\n",
       "       [28663.50701111],\n",
       "       [37296.64201239],\n",
       "       [36243.82067077],\n",
       "       [32874.79237759],\n",
       "       [37086.07774406],\n",
       "       [32453.66384094],\n",
       "       [32032.53530429],\n",
       "       [31821.97103597],\n",
       "       [28031.81420614],\n",
       "       [37296.64201239],\n",
       "       [37507.20628071],\n",
       "       [33927.6137192 ],\n",
       "       [28874.07127943],\n",
       "       [36033.25640244],\n",
       "       [17714.16505827],\n",
       "       [37296.64201239],\n",
       "       [28874.07127943],\n",
       "       [34980.43506082],\n",
       "       [34769.8707925 ],\n",
       "       [33717.04945088],\n",
       "       [27189.55713284],\n",
       "       [32243.09957261],\n",
       "       [37086.07774406],\n",
       "       [29084.63554776],\n",
       "       [34559.30652418],\n",
       "       [37086.07774406],\n",
       "       [37507.20628071],\n",
       "       [34559.30652418],\n",
       "       [37507.20628071],\n",
       "       [36875.51347574],\n",
       "       [34769.8707925 ],\n",
       "       [26978.99286452],\n",
       "       [30137.45688937],\n",
       "       [28031.81420614],\n",
       "       [33717.04945088],\n",
       "       [36454.38493909],\n",
       "       [36664.94920742],\n",
       "       [37507.20628071],\n",
       "       [37296.64201239],\n",
       "       [28663.50701111],\n",
       "       [34559.30652418],\n",
       "       [28242.37847446],\n",
       "       [34348.74225585],\n",
       "       [34559.30652418],\n",
       "       [37507.20628071],\n",
       "       [37296.64201239],\n",
       "       [37296.64201239],\n",
       "       [31190.27823099],\n",
       "       [36875.51347574],\n",
       "       [37507.20628071],\n",
       "       [31821.97103597],\n",
       "       [28874.07127943],\n",
       "       [35822.69213412],\n",
       "       [31190.27823099],\n",
       "       [37507.20628071],\n",
       "       [33085.35664591],\n",
       "       [35822.69213412],\n",
       "       [35612.1278658 ],\n",
       "       [33295.92091423],\n",
       "       [32032.53530429],\n",
       "       [32664.22810926],\n",
       "       [36664.94920742],\n",
       "       [28663.50701111],\n",
       "       [33295.92091423],\n",
       "       [37507.20628071],\n",
       "       [36664.94920742],\n",
       "       [36875.51347574],\n",
       "       [33085.35664591],\n",
       "       [33085.35664591],\n",
       "       [37086.07774406],\n",
       "       [33717.04945088],\n",
       "       [37296.64201239],\n",
       "       [31400.84249932],\n",
       "       [32453.66384094],\n",
       "       [37296.64201239],\n",
       "       [37507.20628071],\n",
       "       [31400.84249932],\n",
       "       [37507.20628071],\n",
       "       [33085.35664591],\n",
       "       [37507.20628071],\n",
       "       [31821.97103597],\n",
       "       [37507.20628071],\n",
       "       [32032.53530429],\n",
       "       [32874.79237759],\n",
       "       [27821.24993781],\n",
       "       [28663.50701111],\n",
       "       [31190.27823099],\n",
       "       [37296.64201239],\n",
       "       [37296.64201239],\n",
       "       [31190.27823099],\n",
       "       [30979.71396267],\n",
       "       [31611.40676764],\n",
       "       [27821.24993781],\n",
       "       [36664.94920742],\n",
       "       [37296.64201239],\n",
       "       [37507.20628071],\n",
       "       [37296.64201239],\n",
       "       [37296.64201239],\n",
       "       [34980.43506082],\n",
       "       [37507.20628071],\n",
       "       [37717.77054903],\n",
       "       [33085.35664591],\n",
       "       [28663.50701111],\n",
       "       [32243.09957261],\n",
       "       [34980.43506082],\n",
       "       [32243.09957261],\n",
       "       [31611.40676764],\n",
       "       [32453.66384094],\n",
       "       [30979.71396267],\n",
       "       [27821.24993781],\n",
       "       [37086.07774406],\n",
       "       [31400.84249932],\n",
       "       [31611.40676764],\n",
       "       [32243.09957261],\n",
       "       [30558.58542602],\n",
       "       [34348.74225585],\n",
       "       [37507.20628071],\n",
       "       [37296.64201239],\n",
       "       [37507.20628071],\n",
       "       [30769.14969435],\n",
       "       [37507.20628071],\n",
       "       [37086.07774406],\n",
       "       [37507.20628071],\n",
       "       [33295.92091423],\n",
       "       [34138.17798753],\n",
       "       [37086.07774406],\n",
       "       [25926.1715229 ],\n",
       "       [37086.07774406],\n",
       "       [37296.64201239],\n",
       "       [31400.84249932],\n",
       "       [37296.64201239],\n",
       "       [34769.8707925 ],\n",
       "       [33295.92091423],\n",
       "       [34559.30652418],\n",
       "       [37296.64201239],\n",
       "       [37086.07774406],\n",
       "       [37086.07774406],\n",
       "       [36033.25640244],\n",
       "       [36664.94920742],\n",
       "       [34980.43506082],\n",
       "       [34769.8707925 ],\n",
       "       [36033.25640244],\n",
       "       [37507.20628071],\n",
       "       [34348.74225585],\n",
       "       [34138.17798753],\n",
       "       [37507.20628071],\n",
       "       [37507.20628071],\n",
       "       [34559.30652418],\n",
       "       [37507.20628071],\n",
       "       [29084.63554776],\n",
       "       [28663.50701111],\n",
       "       [37296.64201239],\n",
       "       [37296.64201239],\n",
       "       [37086.07774406],\n",
       "       [31400.84249932],\n",
       "       [35401.56359747],\n",
       "       [33927.6137192 ],\n",
       "       [36033.25640244],\n",
       "       [29716.32835273],\n",
       "       [34559.30652418],\n",
       "       [36454.38493909],\n",
       "       [32874.79237759],\n",
       "       [28874.07127943],\n",
       "       [34348.74225585],\n",
       "       [36664.94920742],\n",
       "       [32453.66384094],\n",
       "       [32874.79237759],\n",
       "       [34980.43506082],\n",
       "       [28242.37847446],\n",
       "       [37086.07774406],\n",
       "       [27400.12140116],\n",
       "       [37507.20628071],\n",
       "       [36875.51347574],\n",
       "       [30769.14969435],\n",
       "       [37086.07774406],\n",
       "       [37296.64201239],\n",
       "       [30558.58542602],\n",
       "       [37296.64201239],\n",
       "       [37296.64201239],\n",
       "       [31400.84249932],\n",
       "       [29295.19981608],\n",
       "       [32032.53530429],\n",
       "       [37296.64201239],\n",
       "       [36875.51347574],\n",
       "       [32664.22810926],\n",
       "       [29295.19981608],\n",
       "       [31400.84249932],\n",
       "       [32453.66384094],\n",
       "       [36875.51347574],\n",
       "       [37507.20628071],\n",
       "       [37507.20628071],\n",
       "       [34559.30652418],\n",
       "       [30137.45688937],\n",
       "       [35612.1278658 ],\n",
       "       [37507.20628071],\n",
       "       [32453.66384094],\n",
       "       [37507.20628071],\n",
       "       [37296.64201239],\n",
       "       [30137.45688937],\n",
       "       [32243.09957261],\n",
       "       [34769.8707925 ],\n",
       "       [36664.94920742],\n",
       "       [35401.56359747],\n",
       "       [29926.89262105],\n",
       "       [26978.99286452],\n",
       "       [37296.64201239],\n",
       "       [20030.37200983],\n",
       "       [30558.58542602],\n",
       "       [34559.30652418],\n",
       "       [37086.07774406],\n",
       "       [37296.64201239],\n",
       "       [36664.94920742],\n",
       "       [35612.1278658 ],\n",
       "       [35401.56359747],\n",
       "       [35190.99932915],\n",
       "       [31611.40676764],\n",
       "       [37507.20628071],\n",
       "       [25083.9144496 ],\n",
       "       [37507.20628071],\n",
       "       [35822.69213412],\n",
       "       [29084.63554776],\n",
       "       [33506.48518256],\n",
       "       [37086.07774406],\n",
       "       [33085.35664591],\n",
       "       [31190.27823099],\n",
       "       [32664.22810926],\n",
       "       [29295.19981608],\n",
       "       [36033.25640244],\n",
       "       [37507.20628071],\n",
       "       [37296.64201239],\n",
       "       [34980.43506082],\n",
       "       [34980.43506082],\n",
       "       [31611.40676764],\n",
       "       [31190.27823099],\n",
       "       [34559.30652418],\n",
       "       [30558.58542602],\n",
       "       [35822.69213412],\n",
       "       [31190.27823099],\n",
       "       [34980.43506082],\n",
       "       [37507.20628071],\n",
       "       [37507.20628071],\n",
       "       [30137.45688937],\n",
       "       [36875.51347574],\n",
       "       [33506.48518256],\n",
       "       [37507.20628071],\n",
       "       [37507.20628071],\n",
       "       [37507.20628071],\n",
       "       [33295.92091423],\n",
       "       [37086.07774406],\n",
       "       [35190.99932915],\n",
       "       [35822.69213412],\n",
       "       [29295.19981608],\n",
       "       [37296.64201239],\n",
       "       [30137.45688937],\n",
       "       [32664.22810926],\n",
       "       [33717.04945088],\n",
       "       [37296.64201239],\n",
       "       [32664.22810926],\n",
       "       [31190.27823099],\n",
       "       [36875.51347574],\n",
       "       [37296.64201239],\n",
       "       [30348.0211577 ],\n",
       "       [30979.71396267],\n",
       "       [37296.64201239],\n",
       "       [34138.17798753],\n",
       "       [37507.20628071],\n",
       "       [33085.35664591],\n",
       "       [36875.51347574],\n",
       "       [29084.63554776],\n",
       "       [26347.30005955],\n",
       "       [37507.20628071],\n",
       "       [37507.20628071],\n",
       "       [33927.6137192 ],\n",
       "       [27400.12140116],\n",
       "       [33085.35664591],\n",
       "       [31611.40676764],\n",
       "       [37507.20628071],\n",
       "       [14976.82957006],\n",
       "       [30979.71396267],\n",
       "       [31611.40676764],\n",
       "       [37507.20628071],\n",
       "       [37507.20628071],\n",
       "       [37086.07774406],\n",
       "       [32874.79237759],\n",
       "       [29295.19981608],\n",
       "       [27400.12140116],\n",
       "       [32874.79237759],\n",
       "       [30558.58542602],\n",
       "       [37507.20628071],\n",
       "       [37507.20628071],\n",
       "       [36664.94920742],\n",
       "       [37086.07774406],\n",
       "       [30769.14969435],\n",
       "       [31611.40676764],\n",
       "       [31190.27823099],\n",
       "       [29926.89262105],\n",
       "       [34769.8707925 ],\n",
       "       [37296.64201239],\n",
       "       [26978.99286452],\n",
       "       [33295.92091423],\n",
       "       [37507.20628071],\n",
       "       [15397.9581067 ],\n",
       "       [35190.99932915],\n",
       "       [37296.64201239],\n",
       "       [29084.63554776],\n",
       "       [31611.40676764],\n",
       "       [32243.09957261],\n",
       "       [35401.56359747],\n",
       "       [37507.20628071],\n",
       "       [35190.99932915],\n",
       "       [34980.43506082],\n",
       "       [29926.89262105],\n",
       "       [31821.97103597],\n",
       "       [33927.6137192 ],\n",
       "       [37507.20628071],\n",
       "       [31190.27823099],\n",
       "       [36454.38493909],\n",
       "       [31400.84249932],\n",
       "       [37507.20628071],\n",
       "       [29505.7640844 ],\n",
       "       [37296.64201239],\n",
       "       [34769.8707925 ],\n",
       "       [37507.20628071],\n",
       "       [34138.17798753],\n",
       "       [32453.66384094],\n",
       "       [11607.80127687],\n",
       "       [36454.38493909],\n",
       "       [35190.99932915],\n",
       "       [37507.20628071],\n",
       "       [34138.17798753],\n",
       "       [37086.07774406],\n",
       "       [23820.52883966],\n",
       "       [37507.20628071],\n",
       "       [33506.48518256],\n",
       "       [33085.35664591],\n",
       "       [36875.51347574],\n",
       "       [37507.20628071],\n",
       "       [37086.07774406],\n",
       "       [19398.67920486],\n",
       "       [22767.70749804],\n",
       "       [27189.55713284],\n",
       "       [30769.14969435],\n",
       "       [35612.1278658 ],\n",
       "       [26136.73579122],\n",
       "       [37086.07774406],\n",
       "       [37507.20628071],\n",
       "       [34348.74225585],\n",
       "       [37507.20628071],\n",
       "       [33085.35664591],\n",
       "       [36454.38493909],\n",
       "       [30558.58542602],\n",
       "       [18135.29359491],\n",
       "       [37507.20628071],\n",
       "       [37507.20628071],\n",
       "       [34559.30652418],\n",
       "       [37296.64201239],\n",
       "       [30348.0211577 ],\n",
       "       [31611.40676764],\n",
       "       [32032.53530429],\n",
       "       [37507.20628071],\n",
       "       [34769.8707925 ],\n",
       "       [37507.20628071],\n",
       "       [31400.84249932],\n",
       "       [37086.07774406],\n",
       "       [37507.20628071],\n",
       "       [31190.27823099],\n",
       "       [33295.92091423],\n",
       "       [37296.64201239],\n",
       "       [37086.07774406],\n",
       "       [34138.17798753],\n",
       "       [32453.66384094],\n",
       "       [34559.30652418],\n",
       "       [28663.50701111],\n",
       "       [32874.79237759],\n",
       "       [37296.64201239],\n",
       "       [34348.74225585],\n",
       "       [31611.40676764],\n",
       "       [34980.43506082],\n",
       "       [37507.20628071],\n",
       "       [37296.64201239],\n",
       "       [32453.66384094],\n",
       "       [32032.53530429],\n",
       "       [36454.38493909],\n",
       "       [35822.69213412],\n",
       "       [34769.8707925 ],\n",
       "       [27821.24993781],\n",
       "       [31611.40676764],\n",
       "       [37717.77054903],\n",
       "       [37507.20628071],\n",
       "       [37296.64201239],\n",
       "       [37296.64201239],\n",
       "       [34980.43506082],\n",
       "       [37507.20628071],\n",
       "       [34138.17798753],\n",
       "       [21714.88615642],\n",
       "       [35190.99932915],\n",
       "       [30558.58542602],\n",
       "       [31821.97103597],\n",
       "       [34348.74225585],\n",
       "       [37507.20628071],\n",
       "       [37296.64201239],\n",
       "       [37086.07774406],\n",
       "       [33927.6137192 ],\n",
       "       [36875.51347574],\n",
       "       [32032.53530429],\n",
       "       [32453.66384094],\n",
       "       [30769.14969435],\n",
       "       [26557.86432787],\n",
       "       [31611.40676764],\n",
       "       [34980.43506082],\n",
       "       [37296.64201239],\n",
       "       [33927.6137192 ],\n",
       "       [28663.50701111],\n",
       "       [34769.8707925 ],\n",
       "       [34348.74225585],\n",
       "       [25926.1715229 ],\n",
       "       [34138.17798753],\n",
       "       [37507.20628071],\n",
       "       [34980.43506082],\n",
       "       [31400.84249932],\n",
       "       [37507.20628071],\n",
       "       [37296.64201239],\n",
       "       [36664.94920742],\n",
       "       [27821.24993781],\n",
       "       [31611.40676764],\n",
       "       [31400.84249932],\n",
       "       [36454.38493909],\n",
       "       [29084.63554776],\n",
       "       [31611.40676764],\n",
       "       [35822.69213412]])"
      ]
     },
     "execution_count": 145,
     "metadata": {},
     "output_type": "execute_result"
    }
   ],
   "source": [
    "y_predicted"
   ]
  },
  {
   "cell_type": "code",
   "execution_count": 146,
   "id": "67fa22e5",
   "metadata": {},
   "outputs": [
    {
     "data": {
      "text/html": [
       "<div>\n",
       "<style scoped>\n",
       "    .dataframe tbody tr th:only-of-type {\n",
       "        vertical-align: middle;\n",
       "    }\n",
       "\n",
       "    .dataframe tbody tr th {\n",
       "        vertical-align: top;\n",
       "    }\n",
       "\n",
       "    .dataframe thead th {\n",
       "        text-align: right;\n",
       "    }\n",
       "</style>\n",
       "<table border=\"1\" class=\"dataframe\">\n",
       "  <thead>\n",
       "    <tr style=\"text-align: right;\">\n",
       "      <th></th>\n",
       "      <th>Actual</th>\n",
       "      <th>Predicted</th>\n",
       "    </tr>\n",
       "  </thead>\n",
       "  <tbody>\n",
       "    <tr>\n",
       "      <th>0</th>\n",
       "      <td>11500</td>\n",
       "      <td>34348.742256</td>\n",
       "    </tr>\n",
       "    <tr>\n",
       "      <th>1</th>\n",
       "      <td>39900</td>\n",
       "      <td>34348.742256</td>\n",
       "    </tr>\n",
       "    <tr>\n",
       "      <th>2</th>\n",
       "      <td>25000</td>\n",
       "      <td>30558.585426</td>\n",
       "    </tr>\n",
       "    <tr>\n",
       "      <th>3</th>\n",
       "      <td>119000</td>\n",
       "      <td>34980.435061</td>\n",
       "    </tr>\n",
       "    <tr>\n",
       "      <th>4</th>\n",
       "      <td>64500</td>\n",
       "      <td>29295.199816</td>\n",
       "    </tr>\n",
       "    <tr>\n",
       "      <th>5</th>\n",
       "      <td>60000</td>\n",
       "      <td>30979.713963</td>\n",
       "    </tr>\n",
       "    <tr>\n",
       "      <th>6</th>\n",
       "      <td>39900</td>\n",
       "      <td>37507.206281</td>\n",
       "    </tr>\n",
       "    <tr>\n",
       "      <th>7</th>\n",
       "      <td>35000</td>\n",
       "      <td>31821.971036</td>\n",
       "    </tr>\n",
       "    <tr>\n",
       "      <th>8</th>\n",
       "      <td>37990</td>\n",
       "      <td>29295.199816</td>\n",
       "    </tr>\n",
       "    <tr>\n",
       "      <th>9</th>\n",
       "      <td>62167</td>\n",
       "      <td>37296.642012</td>\n",
       "    </tr>\n",
       "  </tbody>\n",
       "</table>\n",
       "</div>"
      ],
      "text/plain": [
       "   Actual     Predicted\n",
       "0   11500  34348.742256\n",
       "1   39900  34348.742256\n",
       "2   25000  30558.585426\n",
       "3  119000  34980.435061\n",
       "4   64500  29295.199816\n",
       "5   60000  30979.713963\n",
       "6   39900  37507.206281\n",
       "7   35000  31821.971036\n",
       "8   37990  29295.199816\n",
       "9   62167  37296.642012"
      ]
     },
     "execution_count": 146,
     "metadata": {},
     "output_type": "execute_result"
    }
   ],
   "source": [
    "# Create dataframe comparing actual and predicted values of y\n",
    "data = pd.DataFrame({'Actual': y_test.flatten(), 'Predicted': y_predicted.flatten()})\n",
    "data.head(10)\n",
    "# As we can see, there's quite a difference between actual and predicted values, confirming the model isn't the best approach here"
   ]
  },
  {
   "cell_type": "code",
   "execution_count": 147,
   "id": "da880a84",
   "metadata": {},
   "outputs": [],
   "source": [
    "# Compare how the regression fits the training set\n",
    "\n",
    "# Predict X train\n",
    "y_predicted_train = regression.predict(X_train)"
   ]
  },
  {
   "cell_type": "code",
   "execution_count": 148,
   "id": "bd442068",
   "metadata": {},
   "outputs": [],
   "source": [
    "rmse = mean_squared_error(y_train, y_predicted_train)\n",
    "r2 = r2_score(y_train, y_predicted_train)"
   ]
  },
  {
   "cell_type": "code",
   "execution_count": 149,
   "id": "f919b1c6",
   "metadata": {},
   "outputs": [
    {
     "name": "stdout",
     "output_type": "stream",
     "text": [
      "Slope: [[210.56426832]]\n",
      "Mean squared error:  236227309.42097425\n",
      "R2 score:  0.05856665702834862\n"
     ]
    }
   ],
   "source": [
    "print('Slope:' ,regression.coef_)\n",
    "print('Mean squared error: ', rmse)\n",
    "print('R2 score: ', r2)\n",
    "# Similar thoughts as for test set"
   ]
  },
  {
   "cell_type": "code",
   "execution_count": 150,
   "id": "c2eed76d",
   "metadata": {},
   "outputs": [
    {
     "data": {
      "image/png": "[encoded data removed]",
      "text/plain": [
       "<Figure size 640x480 with 1 Axes>"
      ]
     },
     "metadata": {},
     "output_type": "display_data"
    }
   ],
   "source": [
    "# Visualize training set results\n",
    "plot_train = plt\n",
    "plot_train.scatter(X_train, y_train, color='green', s = 15)\n",
    "plot_train.plot(X_train, y_predicted_train, color='red', linewidth =3)\n",
    "plot_train.title('Construction Year Vs. Price (Train Set)')\n",
    "plot_train.xlabel('construction year')\n",
    "plot_train.ylabel('price')\n",
    "plot_train.savefig('plot_train.png')\n",
    "plot_train.show()"
   ]
  },
  {
   "cell_type": "code",
   "execution_count": 151,
   "id": "e00daa21",
   "metadata": {},
   "outputs": [],
   "source": [
    "# Conclusions \n",
    "# The linear regression model applied is inaccurate in this case\n",
    "# We can rule out the initial hypotheses \"Newer boats cost more than older boats\"\n",
    "# Construction year does influence price but apparently not in a linear way\n",
    "# We will need to explore other models (e.g. multiple regression model)"
   ]
  }
 ],
 "metadata": {
  "kernelspec": {
   "display_name": "Python 3 (ipykernel)",
   "language": "python",
   "name": "python3"
  },
  "language_info": {
   "codemirror_mode": {
    "name": "ipython",
    "version": 3
   },
   "file_extension": ".py",
   "mimetype": "text/x-python",
   "name": "python",
   "nbconvert_exporter": "python",
   "pygments_lexer": "ipython3",
   "version": "3.9.13"
  }
 },
 "nbformat": 4,
 "nbformat_minor": 5
}
